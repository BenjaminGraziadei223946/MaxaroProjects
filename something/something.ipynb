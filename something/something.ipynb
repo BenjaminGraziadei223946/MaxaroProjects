{
 "cells": [
  {
   "cell_type": "code",
   "execution_count": 8,
   "metadata": {},
   "outputs": [],
   "source": [
    "#%%% JSON content script\n",
    "import pandas as pd\n",
    "import numpy as np\n",
    "import json\n",
    "from sqlalchemy import create_engine\n",
    "\n",
    "connection_string = 'mssql+pyodbc:///?odbc_connect=' \\\n",
    "                    'Driver%3D%7BODBC+Driver+17+for+SQL+Server%7D%3B' \\\n",
    "                    'Server%3Dmaxreportsrvr.database.windows.net%3B' \\\n",
    "                    'Database%3Dmax_report_db%3B' \\\n",
    "                    'UID%3Dreportadmin%3B' \\\n",
    "                    'PWD%3D#DAff!%nz8r7'\\\n",
    "\n",
    "engine = create_engine(connection_string)\n",
    "\n",
    "# Create the SQL-query to retrieve the \"EmailID,\" \"To,\" and \"Content\" columns from the \"Emails\" table\n",
    "sql = \"\"\"SELECT \n",
    "            MXRITEMNAME, \n",
    "            SALESORDERNUMBER, \n",
    "            CUSTOMSDOCUMENTDATE,\n",
    "            SUM(ORDEREDSALESQUANTITY) AS TotalSalesQuantity\n",
    "        FROM \n",
    "            [dbo].[SalesOrderLineV2Staging]\n",
    "        WHERE \n",
    "            DATAAREAID = 'MNHQ'\n",
    "            AND (MXRITEMNAME = 'Tegel' OR MXRITEMNAME = 'Vloerverwarming')\n",
    "        GROUP BY \n",
    "            MXRITEMNAME, SALESORDERNUMBER\n",
    "         \"\"\"\n",
    "\n",
    "# Get the email data as a Pandas DataFrame\n",
    "data = pd.read_sql(sql, engine)\n",
    "\n",
    "# Close the database connection\n",
    "engine.dispose()\n"
   ]
  },
  {
   "cell_type": "code",
   "execution_count": 20,
   "metadata": {},
   "outputs": [],
   "source": [
    "# Step 1: Identify duplicated SALESORDERNUMBERs\n",
    "duplicated_order_numbers = data.pivot_table(index=['SALESORDERNUMBER'], aggfunc='size')[lambda x: x >= 2].index\n",
    "filtered_data = data[(data['SALESORDERNUMBER'].isin(duplicated_order_numbers))]\n",
    "\n",
    "item_counts = filtered_data.pivot_table(index='SALESORDERNUMBER', columns='MXRITEMNAME', values='TotalSalesQuantity', aggfunc='sum', fill_value=0)"
   ]
  },
  {
   "cell_type": "code",
   "execution_count": 26,
   "metadata": {},
   "outputs": [],
   "source": [
    "import seaborn as sns"
   ]
  },
  {
   "cell_type": "code",
   "execution_count": 23,
   "metadata": {},
   "outputs": [
    {
     "data": {
      "text/html": [
       "<div>\n",
       "<style scoped>\n",
       "    .dataframe tbody tr th:only-of-type {\n",
       "        vertical-align: middle;\n",
       "    }\n",
       "\n",
       "    .dataframe tbody tr th {\n",
       "        vertical-align: top;\n",
       "    }\n",
       "\n",
       "    .dataframe thead th {\n",
       "        text-align: right;\n",
       "    }\n",
       "</style>\n",
       "<table border=\"1\" class=\"dataframe\">\n",
       "  <thead>\n",
       "    <tr style=\"text-align: right;\">\n",
       "      <th>MXRITEMNAME</th>\n",
       "      <th>Tegel</th>\n",
       "      <th>Vloerverwarming</th>\n",
       "    </tr>\n",
       "    <tr>\n",
       "      <th>SALESORDERNUMBER</th>\n",
       "      <th></th>\n",
       "      <th></th>\n",
       "    </tr>\n",
       "  </thead>\n",
       "  <tbody>\n",
       "    <tr>\n",
       "      <th>MNHQSO0400545</th>\n",
       "      <td>21</td>\n",
       "      <td>1</td>\n",
       "    </tr>\n",
       "    <tr>\n",
       "      <th>MNHQSO0401376</th>\n",
       "      <td>30</td>\n",
       "      <td>1</td>\n",
       "    </tr>\n",
       "    <tr>\n",
       "      <th>MNHQSO0401578</th>\n",
       "      <td>13</td>\n",
       "      <td>1</td>\n",
       "    </tr>\n",
       "    <tr>\n",
       "      <th>MNHQSO0401712</th>\n",
       "      <td>21</td>\n",
       "      <td>1</td>\n",
       "    </tr>\n",
       "    <tr>\n",
       "      <th>MNHQSO0402258</th>\n",
       "      <td>33</td>\n",
       "      <td>1</td>\n",
       "    </tr>\n",
       "    <tr>\n",
       "      <th>...</th>\n",
       "      <td>...</td>\n",
       "      <td>...</td>\n",
       "    </tr>\n",
       "    <tr>\n",
       "      <th>MNHQSO0449764</th>\n",
       "      <td>19</td>\n",
       "      <td>1</td>\n",
       "    </tr>\n",
       "    <tr>\n",
       "      <th>MNHQSO0450250</th>\n",
       "      <td>21</td>\n",
       "      <td>1</td>\n",
       "    </tr>\n",
       "    <tr>\n",
       "      <th>MNHQSO0450783</th>\n",
       "      <td>25</td>\n",
       "      <td>1</td>\n",
       "    </tr>\n",
       "    <tr>\n",
       "      <th>MNHQSO0451034</th>\n",
       "      <td>24</td>\n",
       "      <td>1</td>\n",
       "    </tr>\n",
       "    <tr>\n",
       "      <th>MNHQSO0451176</th>\n",
       "      <td>28</td>\n",
       "      <td>1</td>\n",
       "    </tr>\n",
       "  </tbody>\n",
       "</table>\n",
       "<p>150 rows × 2 columns</p>\n",
       "</div>"
      ],
      "text/plain": [
       "MXRITEMNAME       Tegel  Vloerverwarming\n",
       "SALESORDERNUMBER                        \n",
       "MNHQSO0400545        21                1\n",
       "MNHQSO0401376        30                1\n",
       "MNHQSO0401578        13                1\n",
       "MNHQSO0401712        21                1\n",
       "MNHQSO0402258        33                1\n",
       "...                 ...              ...\n",
       "MNHQSO0449764        19                1\n",
       "MNHQSO0450250        21                1\n",
       "MNHQSO0450783        25                1\n",
       "MNHQSO0451034        24                1\n",
       "MNHQSO0451176        28                1\n",
       "\n",
       "[150 rows x 2 columns]"
      ]
     },
     "execution_count": 23,
     "metadata": {},
     "output_type": "execute_result"
    }
   ],
   "source": [
    "item_counts"
   ]
  },
  {
   "cell_type": "code",
   "execution_count": 25,
   "metadata": {},
   "outputs": [
    {
     "data": {
      "text/plain": [
       "array([ 1,  2,  3,  5,  6,  7,  8,  9, 10, 12, 13, 15, 16, 17, 18, 19, 20,\n",
       "       21, 22, 23, 24, 25, 26, 27, 28, 29, 30, 31, 32, 33, 34, 35, 36, 37,\n",
       "       38, 39, 41, 42, 43, 45, 46, 48, 49, 50, 52, 57, 60, 63, 73, 76],\n",
       "      dtype=int64)"
      ]
     },
     "execution_count": 25,
     "metadata": {},
     "output_type": "execute_result"
    }
   ],
   "source": [
    "np.unique(item_counts['Tegel'])"
   ]
  },
  {
   "cell_type": "code",
   "execution_count": 14,
   "metadata": {},
   "outputs": [],
   "source": [
    "duplicates = data.pivot_table(index = ['SALESORDERNUMBER'], aggfunc ='size')[lambda x: x >= 2].index"
   ]
  },
  {
   "cell_type": "code",
   "execution_count": 15,
   "metadata": {},
   "outputs": [
    {
     "data": {
      "text/plain": [
       "Index(['MNHQSO0400545', 'MNHQSO0401376', 'MNHQSO0401578', 'MNHQSO0401712',\n",
       "       'MNHQSO0402258', 'MNHQSO0402483', 'MNHQSO0405183', 'MNHQSO0405835',\n",
       "       'MNHQSO0406070', 'MNHQSO0406702',\n",
       "       ...\n",
       "       'MNHQSO0448467', 'MNHQSO0448610', 'MNHQSO0448656', 'MNHQSO0448781',\n",
       "       'MNHQSO0448999', 'MNHQSO0449764', 'MNHQSO0450250', 'MNHQSO0450783',\n",
       "       'MNHQSO0451034', 'MNHQSO0451176'],\n",
       "      dtype='object', name='SALESORDERNUMBER', length=150)"
      ]
     },
     "execution_count": 15,
     "metadata": {},
     "output_type": "execute_result"
    }
   ],
   "source": [
    "duplicates"
   ]
  }
 ],
 "metadata": {
  "kernelspec": {
   "display_name": ".venv",
   "language": "python",
   "name": "python3"
  },
  "language_info": {
   "codemirror_mode": {
    "name": "ipython",
    "version": 3
   },
   "file_extension": ".py",
   "mimetype": "text/x-python",
   "name": "python",
   "nbconvert_exporter": "python",
   "pygments_lexer": "ipython3",
   "version": "3.11.5"
  }
 },
 "nbformat": 4,
 "nbformat_minor": 2
}
