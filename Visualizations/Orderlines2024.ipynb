{
 "cells": [
  {
   "cell_type": "code",
   "execution_count": 1,
   "metadata": {},
   "outputs": [],
   "source": [
    "#%%% JSON content script\n",
    "import pandas as pd\n",
    "import numpy as np\n",
    "from sqlalchemy import create_engine\n",
    "\n",
    "connection_string = 'mssql+pyodbc:///?odbc_connect=' \\\n",
    "                    'Driver%3D%7BODBC+Driver+17+for+SQL+Server%7D%3B' \\\n",
    "                    'Server%3Dmaxreportsrvr.database.windows.net%3B' \\\n",
    "                    'Database%3Dmax_report_db%3B' \\\n",
    "                    'UID%3Dreportadmin%3B' \\\n",
    "                    'PWD%3D#DAff!%nz8r7'\\\n",
    "\n",
    "engine = create_engine(connection_string)\n",
    "\n",
    "# Create the SQL-query to retrieve the \"EmailID,\" \"To,\" and \"Content\" columns from the \"Emails\" table\n",
    "sql = \"\"\"SELECT ITEMNUMBER\n",
    "FROM SalesOrderLineV2Staging\n",
    "WHERE DATAAREAID = 'MNHQ'\n",
    "\n",
    "         \"\"\"\n",
    "with engine.connect() as conn:\n",
    "    all_data = pd.read_sql(sql, conn)\n",
    "\n",
    "# Close the database connection\n",
    "engine.dispose()"
   ]
  },
  {
   "cell_type": "code",
   "execution_count": 3,
   "metadata": {},
   "outputs": [],
   "source": [
    "item_counts = all_data['ITEMNUMBER'].value_counts().reset_index()\n",
    "item_counts.columns = ['ITEMNUMBER', 'count']  # Renaming columns for clarity"
   ]
  },
  {
   "cell_type": "code",
   "execution_count": 9,
   "metadata": {},
   "outputs": [],
   "source": [
    "item_counts.sort_values(by='ITEMNUMBER', ascending=True, inplace=True)"
   ]
  },
  {
   "cell_type": "code",
   "execution_count": 12,
   "metadata": {},
   "outputs": [
    {
     "data": {
      "text/html": [
       "<div>\n",
       "<style scoped>\n",
       "    .dataframe tbody tr th:only-of-type {\n",
       "        vertical-align: middle;\n",
       "    }\n",
       "\n",
       "    .dataframe tbody tr th {\n",
       "        vertical-align: top;\n",
       "    }\n",
       "\n",
       "    .dataframe thead th {\n",
       "        text-align: right;\n",
       "    }\n",
       "</style>\n",
       "<table border=\"1\" class=\"dataframe\">\n",
       "  <thead>\n",
       "    <tr style=\"text-align: right;\">\n",
       "      <th></th>\n",
       "      <th>ITEMNUMBER</th>\n",
       "      <th>count</th>\n",
       "    </tr>\n",
       "  </thead>\n",
       "  <tbody>\n",
       "    <tr>\n",
       "      <th>0</th>\n",
       "      <td>A0000001</td>\n",
       "      <td>284679</td>\n",
       "    </tr>\n",
       "    <tr>\n",
       "      <th>59</th>\n",
       "      <td>A0000002</td>\n",
       "      <td>3848</td>\n",
       "    </tr>\n",
       "    <tr>\n",
       "      <th>100</th>\n",
       "      <td>A0000003</td>\n",
       "      <td>2699</td>\n",
       "    </tr>\n",
       "    <tr>\n",
       "      <th>118</th>\n",
       "      <td>A0000004</td>\n",
       "      <td>2334</td>\n",
       "    </tr>\n",
       "    <tr>\n",
       "      <th>2746</th>\n",
       "      <td>A0000005</td>\n",
       "      <td>102</td>\n",
       "    </tr>\n",
       "    <tr>\n",
       "      <th>...</th>\n",
       "      <td>...</td>\n",
       "      <td>...</td>\n",
       "    </tr>\n",
       "    <tr>\n",
       "      <th>7832</th>\n",
       "      <td>A0015068</td>\n",
       "      <td>1</td>\n",
       "    </tr>\n",
       "    <tr>\n",
       "      <th>7782</th>\n",
       "      <td>A0015069</td>\n",
       "      <td>1</td>\n",
       "    </tr>\n",
       "    <tr>\n",
       "      <th>6797</th>\n",
       "      <td>A0015070</td>\n",
       "      <td>3</td>\n",
       "    </tr>\n",
       "    <tr>\n",
       "      <th>7506</th>\n",
       "      <td>A0015075</td>\n",
       "      <td>1</td>\n",
       "    </tr>\n",
       "    <tr>\n",
       "      <th>7393</th>\n",
       "      <td>A0015078</td>\n",
       "      <td>2</td>\n",
       "    </tr>\n",
       "  </tbody>\n",
       "</table>\n",
       "<p>8482 rows × 2 columns</p>\n",
       "</div>"
      ],
      "text/plain": [
       "     ITEMNUMBER   count\n",
       "0      A0000001  284679\n",
       "59     A0000002    3848\n",
       "100    A0000003    2699\n",
       "118    A0000004    2334\n",
       "2746   A0000005     102\n",
       "...         ...     ...\n",
       "7832   A0015068       1\n",
       "7782   A0015069       1\n",
       "6797   A0015070       3\n",
       "7506   A0015075       1\n",
       "7393   A0015078       2\n",
       "\n",
       "[8482 rows x 2 columns]"
      ]
     },
     "execution_count": 12,
     "metadata": {},
     "output_type": "execute_result"
    }
   ],
   "source": [
    "item_counts"
   ]
  },
  {
   "cell_type": "code",
   "execution_count": 11,
   "metadata": {},
   "outputs": [],
   "source": [
    "item_counts.to_csv('item_counts.csv', index=False)"
   ]
  }
 ],
 "metadata": {
  "kernelspec": {
   "display_name": "myenv",
   "language": "python",
   "name": "python3"
  },
  "language_info": {
   "codemirror_mode": {
    "name": "ipython",
    "version": 3
   },
   "file_extension": ".py",
   "mimetype": "text/x-python",
   "name": "python",
   "nbconvert_exporter": "python",
   "pygments_lexer": "ipython3",
   "version": "3.11.4"
  }
 },
 "nbformat": 4,
 "nbformat_minor": 2
}
