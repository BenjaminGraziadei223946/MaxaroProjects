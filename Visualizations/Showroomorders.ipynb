{
 "cells": [
  {
   "cell_type": "code",
   "execution_count": 15,
   "metadata": {},
   "outputs": [],
   "source": [
    "import pandas as pd\n",
    "import numpy as np\n",
    "from sqlalchemy import create_engine\n",
    "import json"
   ]
  },
  {
   "cell_type": "code",
   "execution_count": 4,
   "metadata": {},
   "outputs": [],
   "source": [
    "connection_string = 'mssql+pyodbc:///?odbc_connect=' \\\n",
    "                    'Driver%3D%7BODBC+Driver+17+for+SQL+Server%7D%3B' \\\n",
    "                    'Server%3Dsql-maxaro-prod-replica-euno.database.windows.net%3B' \\\n",
    "                    'Database%3Dsqldb-maxaro-prod-replica%3B' \\\n",
    "                    'UID%3Dbiadmin@maxaro.nl%3B' \\\n",
    "                    'Authentication%3DActiveDirectoryInteractive'\n",
    "\n",
    "engine = create_engine(connection_string)\n",
    "\n",
    "sql = \"\"\"SELECT *\n",
    "FROM Emails\n",
    "\"\"\"\n",
    "\n",
    "json_data = pd.read_sql(sql, engine)\n",
    "\n",
    "# Close the database connection\n",
    "engine.dispose()"
   ]
  },
  {
   "cell_type": "code",
   "execution_count": 24,
   "metadata": {},
   "outputs": [
    {
     "name": "stdout",
     "output_type": "stream",
     "text": [
      "The history saving thread hit an unexpected error (OperationalError('database or disk is full')).History will not be written to the database.\n"
     ]
    }
   ],
   "source": [
    "df = pd.json_normalize(json_data['JsonContent'].apply(lambda x: json.loads(x)))"
   ]
  },
  {
   "cell_type": "code",
   "execution_count": 29,
   "metadata": {},
   "outputs": [
    {
     "data": {
      "text/plain": [
       "array(['Renovatie', 'Nieuwbouw'], dtype=object)"
      ]
     },
     "execution_count": 29,
     "metadata": {},
     "output_type": "execute_result"
    }
   ],
   "source": [
    "df_nona = df.dropna(subset=['Values.reason'])\n",
    "df_nona['Values.reason'].unique()"
   ]
  },
  {
   "cell_type": "code",
   "execution_count": 30,
   "metadata": {},
   "outputs": [
    {
     "data": {
      "text/plain": [
       "Values.reason\n",
       "Renovatie    42\n",
       "Nieuwbouw     5\n",
       "Name: count, dtype: int64"
      ]
     },
     "execution_count": 30,
     "metadata": {},
     "output_type": "execute_result"
    }
   ],
   "source": [
    "df_nona['Values.reason'].value_counts()"
   ]
  }
 ],
 "metadata": {
  "kernelspec": {
   "display_name": "myenv",
   "language": "python",
   "name": "python3"
  },
  "language_info": {
   "codemirror_mode": {
    "name": "ipython",
    "version": 3
   },
   "file_extension": ".py",
   "mimetype": "text/x-python",
   "name": "python",
   "nbconvert_exporter": "python",
   "pygments_lexer": "ipython3",
   "version": "3.11.4"
  }
 },
 "nbformat": 4,
 "nbformat_minor": 2
}
