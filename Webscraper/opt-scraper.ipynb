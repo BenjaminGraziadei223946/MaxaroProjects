{
 "cells": [
  {
   "cell_type": "code",
   "execution_count": 1,
   "metadata": {},
   "outputs": [],
   "source": [
    "import requests\n",
    "from bs4 import BeautifulSoup\n",
    "import time\n",
    "import pandas as pd\n",
    "from openai import AzureOpenAI\n",
    "from io import BytesIO\n",
    "import os"
   ]
  },
  {
   "cell_type": "code",
   "execution_count": 2,
   "metadata": {},
   "outputs": [],
   "source": [
    "main_page = \"https://www.maxaro.nl\"\n",
    "df_prodDes = pd.DataFrame(columns=['Product', 'Description', 'URL'])\n",
    "\n",
    "client = AzureOpenAI(\n",
    "    api_key = \"54a267e072934050a8df635e4f6da7b5\",\n",
    "    api_version = \"2023-05-15\",\n",
    "    azure_endpoint = \"https://maxbotai.openai.azure.com/\"\n",
    "    )"
   ]
  },
  {
   "cell_type": "code",
   "execution_count": null,
   "metadata": {},
   "outputs": [],
   "source": [
    "def get_links(main_page):\n",
    "\n",
    "    categories = get_category_links(main_page)\n",
    "    formatted_categories = [format(x) for x in categories]\n",
    "\n",
    "    selected_categories = st.multiselect('Select Categories', formatted_categories, key='cat_select')\n",
    "\n",
    "    if selected_categories != st.session_state['selected_categories']:\n",
    "        # New selection made, reset subcategories\n",
    "        st.session_state['subcategories'] = {}\n",
    "        st.session_state['selected_categories'] = selected_categories\n",
    "\n",
    "    for category in selected_categories:\n",
    "        if category not in st.session_state['subcategories']:\n",
    "            category_url = main_page + '/' + category\n",
    "            st.session_state['subcategories'][category] = get_sub_links(category_url)\n",
    "\n",
    "    urls = []\n",
    "    for category in selected_categories:\n",
    "        subcategories = st.session_state['subcategories'].get(category, [])\n",
    "        \n",
    "        if subcategories:\n",
    "            formatted_subcategories = [format(x) for x in subcategories]\n",
    "            selected_subcategories = st.multiselect(f'Select Subcategories for {category}', formatted_subcategories, default=formatted_subcategories, key=f'sub_select_{category}')\n",
    "\n",
    "            for sub_link in selected_subcategories:\n",
    "                sub_url = main_page + '/' + category + '/' + sub_link\n",
    "                urls.append(sub_url)\n",
    "        else:\n",
    "            category_url = main_page + '/' + category\n",
    "            urls.append(category_url)\n",
    "\n",
    "    if st.button(\"Start\", key='start'):\n",
    "        for url in urls:    \n",
    "            get_product_links(url)"
   ]
  }
 ],
 "metadata": {
  "kernelspec": {
   "display_name": "base",
   "language": "python",
   "name": "python3"
  },
  "language_info": {
   "codemirror_mode": {
    "name": "ipython",
    "version": 3
   },
   "file_extension": ".py",
   "mimetype": "text/x-python",
   "name": "python",
   "nbconvert_exporter": "python",
   "pygments_lexer": "ipython3",
   "version": "3.11.4"
  }
 },
 "nbformat": 4,
 "nbformat_minor": 2
}
